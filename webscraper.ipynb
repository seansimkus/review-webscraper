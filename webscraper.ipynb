{
 "cells": [
  {
   "cell_type": "code",
   "execution_count": 3,
   "source": [
    "# Import standard libraries\r\n",
    "from typing import Text\r\n",
    "from time import sleep\r\n",
    "import pandas as pd\r\n",
    "import numpy as np\r\n",
    "import requests\r\n",
    "\r\n",
    "# Import selenium libraries\r\n",
    "from selenium import webdriver\r\n",
    "from selenium.common.exceptions import TimeoutException\r\n",
    "from selenium.webdriver.support.ui import WebDriverWait\r\n",
    "from selenium.webdriver.support import expected_conditions as EC\r\n",
    "from selenium.webdriver.common.by import By\r\n",
    "from selenium.webdriver.common import keys\r\n",
    "from selenium.webdriver.common.keys import Keys\r\n",
    "from selenium.webdriver.chrome.options import Options\r\n",
    "from selenium.webdriver.common.action_chains import ActionChains\r\n",
    "# Import Beautiful soup\r\n",
    "from bs4 import BeautifulSoup\r\n"
   ],
   "outputs": [],
   "metadata": {}
  },
  {
   "cell_type": "code",
   "execution_count": 20,
   "source": [
    "# Sets the path for the chrome driver\r\n",
    "PATH = 'C:\\Program Files (x86)\\chromedriver.exe'\r\n",
    "\r\n",
    "#options = Options()\r\n",
    "#options.headless = True\r\n",
    "\r\n",
    "# Initializes the driver\r\n",
    "driver = webdriver.Chrome(PATH)\r\n",
    "\r\n",
    "# Opens a webpage on the driver\r\n",
    "driver.get('https://arcteryx.com/ca/en/c/mens/shell-jackets')\r\n",
    "# Print out the title of the website\r\n",
    "print(driver.title)\r\n"
   ],
   "outputs": [
    {
     "output_type": "stream",
     "name": "stdout",
     "text": [
      "Men's Shell Jackets | Arc'teryx\n"
     ]
    }
   ],
   "metadata": {}
  },
  {
   "cell_type": "code",
   "execution_count": 21,
   "source": [
    "# Get the elements for each product\r\n",
    "elems = driver.find_elements_by_class_name('product-tile-details')\r\n",
    "# Get the link to each product\r\n",
    "links = [elem.get_attribute('href') for elem in elems]"
   ],
   "outputs": [],
   "metadata": {}
  },
  {
   "cell_type": "code",
   "execution_count": 22,
   "source": [
    "# Check\r\n",
    "links"
   ],
   "outputs": [
    {
     "output_type": "execute_result",
     "data": {
      "text/plain": [
       "['https://arcteryx.com/ca/en/shop/mens/beta-ar-jacket-(nam)',\n",
       " 'https://arcteryx.com/ca/en/shop/mens/alpha-ar-jacket',\n",
       " 'https://arcteryx.com/ca/en/shop/mens/dume-coat',\n",
       " 'https://arcteryx.com/ca/en/shop/mens/paltz-jacket',\n",
       " 'https://arcteryx.com/ca/en/shop/mens/beta-long-jacket',\n",
       " 'https://arcteryx.com/ca/en/shop/mens/anther-sl-jacket',\n",
       " 'https://arcteryx.com/ca/en/shop/mens/zeta-sl-jacket',\n",
       " 'https://arcteryx.com/ca/en/shop/mens/beta-lt-jacket',\n",
       " 'https://arcteryx.com/ca/en/shop/mens/dume-jacket',\n",
       " 'https://arcteryx.com/ca/en/shop/mens/gamma-lt-hoody',\n",
       " 'https://arcteryx.com/ca/en/shop/mens/norvan-lt-hoody',\n",
       " 'https://arcteryx.com/ca/en/shop/mens/gamma-sl-anorak',\n",
       " 'https://arcteryx.com/ca/en/shop/mens/sawyer-coat',\n",
       " 'https://arcteryx.com/ca/en/shop/mens/sawyer-softshell-jacket',\n",
       " 'https://arcteryx.com/ca/en/shop/mens/solano-hoody',\n",
       " 'https://arcteryx.com/ca/en/shop/mens/solano-jacket',\n",
       " 'https://arcteryx.com/ca/en/shop/mens/stowe-windshell-rebird',\n",
       " 'https://arcteryx.com/ca/en/shop/mens/squamish-hoody',\n",
       " 'https://arcteryx.com/ca/en/shop/mens/alpha-sl-anorak',\n",
       " 'https://arcteryx.com/ca/en/shop/mens/incendo-sl-hoody',\n",
       " 'https://arcteryx.com/ca/en/shop/mens/beta-sv-jacket',\n",
       " 'https://arcteryx.com/ca/en/shop/mens/alpha-sv-jacket',\n",
       " 'https://arcteryx.com/ca/en/shop/mens/gamma-mx-hoody',\n",
       " 'https://arcteryx.com/ca/en/shop/mens/fraser-jacket',\n",
       " 'https://arcteryx.com/ca/en/shop/mens/trino-sl-hoody',\n",
       " 'https://arcteryx.com/ca/en/shop/mens/gamma-lt-jacket',\n",
       " 'https://arcteryx.com/ca/en/shop/mens/gamma-mx-jacket',\n",
       " 'https://arcteryx.com/ca/en/shop/mens/rush-jacket-rebird',\n",
       " 'https://arcteryx.com/ca/en/shop/mens/beta-sv-jacket-rebird',\n",
       " 'https://arcteryx.com/ca/en/shop/mens/heliad-jacket',\n",
       " 'https://arcteryx.com/ca/en/shop/mens/incendo-hoody',\n",
       " 'https://arcteryx.com/ca/en/shop/mens/gamma-sl-hoody']"
      ]
     },
     "metadata": {},
     "execution_count": 22
    }
   ],
   "metadata": {}
  },
  {
   "cell_type": "code",
   "execution_count": 23,
   "source": [
    "len(links)"
   ],
   "outputs": [
    {
     "output_type": "execute_result",
     "data": {
      "text/plain": [
       "32"
      ]
     },
     "metadata": {},
     "execution_count": 23
    }
   ],
   "metadata": {}
  },
  {
   "cell_type": "code",
   "execution_count": 25,
   "source": [
    "\r\n",
    "# Create empty lists\r\n",
    "review_list = []\r\n",
    "rating_list = []\r\n",
    "product_names = []\r\n",
    "\r\n",
    "# Set delay for driver wait\r\n",
    "delay = 30\r\n",
    "\r\n",
    "# Iterate through each \r\n",
    "for link in links:\r\n",
    "    driver.get(link)\r\n",
    "    print(driver.title)\r\n",
    "    # While there is button to go to the next page execute the block\r\n",
    "    while len(driver.find_elements_by_css_selector('a.bv-content-btn-pages-last.bv-content-btn-pages-active')) > 0:\r\n",
    "        # Wait until the loading wheel is not present to execute the script\r\n",
    "        try:\r\n",
    "            myElem = WebDriverWait(driver, delay).until_not(EC.presence_of_element_located((By.ID, 'bv-mbox-loading')))\r\n",
    "            # Find the review section on the page\r\n",
    "            review_element = driver.find_element_by_id('reviews')\r\n",
    "            # Get the HTML of the review section of the page\r\n",
    "            review_html = review_element.get_attribute('innerHTML')\r\n",
    "            review_soup = BeautifulSoup(review_html, 'lxml')\r\n",
    "            # Find all individual reviews\r\n",
    "            reviews = review_soup.find_all('div', class_ = 'bv-content-item-author-profile-offset bv-content-item-author-profile-offset-on')\r\n",
    "            product_name = driver.find_element_by_class_name('qa--primary-product-name').text\r\n",
    "            driver\r\n",
    "            # Iterate through the reviews\r\n",
    "            for review in reviews:\r\n",
    "                # Find the text of the review\r\n",
    "                review_text = review.find(class_ = 'bv-content-summary-body-text')\r\n",
    "                # Add the text to the list of reviews\r\n",
    "                review_list.append(review_text.text)\r\n",
    "                # Find the rating of the review\r\n",
    "                review_rating = review.find('abbr', class_ = 'bv-rating-stars-on').get('title')[0]\r\n",
    "                # Add to list of ratings\r\n",
    "                rating_list.append(review_rating)\r\n",
    "                \r\n",
    "                product_names.append(product_name)\r\n",
    "            # Try to press the next button\r\n",
    "            try:\r\n",
    "                driver.execute_script(\"arguments[0].click();\", WebDriverWait(driver, 5).until(EC.element_to_be_clickable((By.CSS_SELECTOR, \"a.bv-content-btn-pages-last.bv-content-btn-pages-active\"))))\r\n",
    "            # If the page does not have a next button print statement and break while loop\r\n",
    "            except TimeoutException:\r\n",
    "                print (\"No more pages\")\r\n",
    "                break\r\n",
    "        # If page does not load in time print statement\r\n",
    "        except TimeoutException:\r\n",
    "            print (\"Loading took too much time!\")\r\n",
    "# Closes the browser        \r\n",
    "driver.quit()"
   ],
   "outputs": [
    {
     "output_type": "stream",
     "name": "stdout",
     "text": [
      "Beta AR Jacket Men's | Arc'teryx\n",
      "No more pages\n",
      "Alpha AR Jacket Men's | Arc'teryx\n",
      "No more pages\n",
      "Dume Coat Men's | Arc'teryx\n",
      "Paltz Jacket Men's | Arc'teryx\n",
      "Beta Long Jacket Men's | Arc'teryx\n",
      "Anther SL Jacket Men's | Arc'teryx\n",
      "Zeta SL Jacket Men's | Arc'teryx\n",
      "No more pages\n",
      "Beta LT Jacket Men's | Arc'teryx\n",
      "No more pages\n",
      "Dume Jacket Men's | Arc'teryx\n",
      "Gamma LT Hoody Men's | Arc'teryx\n",
      "No more pages\n",
      "Norvan LT Hoody Men's | Arc'teryx\n",
      "Gamma SL Anorak Men's | Arc'teryx\n",
      "Sawyer Coat Men's | Arc'teryx\n",
      "No more pages\n",
      "Sawyer Softshell Jacket Men's | Arc'teryx\n",
      "Solano Hoody Men's | Arc'teryx\n",
      "No more pages\n",
      "Solano Jacket Men's | Arc'teryx\n",
      "No more pages\n",
      "Stowe Windshell ReBird Men's | Arc'teryx\n",
      "Squamish Hoody Men's | Arc'teryx\n",
      "No more pages\n",
      "Alpha SL Anorak Men's | Arc'teryx\n",
      "No more pages\n",
      "Incendo SL Hoody Men's | Arc'teryx\n",
      "Beta SV Jacket Men's | Arc'teryx\n",
      "No more pages\n",
      "Alpha SV Jacket Men's | Arc'teryx\n",
      "No more pages\n",
      "Gamma MX Hoody Men's | Arc'teryx\n",
      "No more pages\n",
      "Fraser Jacket Men's | Arc'teryx\n",
      "No more pages\n",
      "Trino SL Hoody Men's | Arc'teryx\n",
      "No more pages\n",
      "Gamma LT Jacket Men's | Arc'teryx\n",
      "No more pages\n",
      "Gamma MX Jacket Men's | Arc'teryx\n",
      "No more pages\n",
      "Rush Jacket ReBird Men's | Arc'teryx\n",
      "No more pages\n",
      "Beta SV Jacket ReBird Men's | Arc'teryx\n",
      "No more pages\n",
      "Heliad Jacket Men's | Arc'teryx\n",
      "Incendo Hoody Men's | Arc'teryx\n",
      "No more pages\n",
      "Gamma SL Hoody Men's | Arc'teryx\n",
      "No more pages\n"
     ]
    }
   ],
   "metadata": {}
  },
  {
   "cell_type": "code",
   "execution_count": 26,
   "source": [
    "# Check\r\n",
    "print(f'There are {len(review_list)} reviews')\r\n",
    "print(f'There are {len(rating_list)} ratings')"
   ],
   "outputs": [
    {
     "output_type": "stream",
     "name": "stdout",
     "text": [
      "There are 2200 reviews\n",
      "There are 2200 ratings\n"
     ]
    }
   ],
   "metadata": {}
  },
  {
   "cell_type": "code",
   "execution_count": 27,
   "source": [
    "# Create data frame from the two lists\r\n",
    "review_df = pd.DataFrame({'review':review_list, 'rating':rating_list, 'product':product_names})"
   ],
   "outputs": [],
   "metadata": {}
  },
  {
   "cell_type": "code",
   "execution_count": 28,
   "source": [
    "# Check\r\n",
    "review_df.head(5)"
   ],
   "outputs": [
    {
     "output_type": "execute_result",
     "data": {
      "text/plain": [
       "                                              review rating  \\\n",
       "0   I am 5\"9, 180lbs... my normal fit is a medium...      1   \n",
       "1   Just purchased a second one after destroying ...      4   \n",
       "2   Well-constructed, but way too small.  I'm a 6...      1   \n",
       "3   Très bonne achat vraiment confortable Et très...      4   \n",
       "4   I bought this jacket at my local REI on sale ...      4   \n",
       "\n",
       "                product  \n",
       "0  BETA AR JACKET MEN'S  \n",
       "1  BETA AR JACKET MEN'S  \n",
       "2  BETA AR JACKET MEN'S  \n",
       "3  BETA AR JACKET MEN'S  \n",
       "4  BETA AR JACKET MEN'S  "
      ],
      "text/html": [
       "<div>\n",
       "<style scoped>\n",
       "    .dataframe tbody tr th:only-of-type {\n",
       "        vertical-align: middle;\n",
       "    }\n",
       "\n",
       "    .dataframe tbody tr th {\n",
       "        vertical-align: top;\n",
       "    }\n",
       "\n",
       "    .dataframe thead th {\n",
       "        text-align: right;\n",
       "    }\n",
       "</style>\n",
       "<table border=\"1\" class=\"dataframe\">\n",
       "  <thead>\n",
       "    <tr style=\"text-align: right;\">\n",
       "      <th></th>\n",
       "      <th>review</th>\n",
       "      <th>rating</th>\n",
       "      <th>product</th>\n",
       "    </tr>\n",
       "  </thead>\n",
       "  <tbody>\n",
       "    <tr>\n",
       "      <th>0</th>\n",
       "      <td>I am 5\"9, 180lbs... my normal fit is a medium...</td>\n",
       "      <td>1</td>\n",
       "      <td>BETA AR JACKET MEN'S</td>\n",
       "    </tr>\n",
       "    <tr>\n",
       "      <th>1</th>\n",
       "      <td>Just purchased a second one after destroying ...</td>\n",
       "      <td>4</td>\n",
       "      <td>BETA AR JACKET MEN'S</td>\n",
       "    </tr>\n",
       "    <tr>\n",
       "      <th>2</th>\n",
       "      <td>Well-constructed, but way too small.  I'm a 6...</td>\n",
       "      <td>1</td>\n",
       "      <td>BETA AR JACKET MEN'S</td>\n",
       "    </tr>\n",
       "    <tr>\n",
       "      <th>3</th>\n",
       "      <td>Très bonne achat vraiment confortable Et très...</td>\n",
       "      <td>4</td>\n",
       "      <td>BETA AR JACKET MEN'S</td>\n",
       "    </tr>\n",
       "    <tr>\n",
       "      <th>4</th>\n",
       "      <td>I bought this jacket at my local REI on sale ...</td>\n",
       "      <td>4</td>\n",
       "      <td>BETA AR JACKET MEN'S</td>\n",
       "    </tr>\n",
       "  </tbody>\n",
       "</table>\n",
       "</div>"
      ]
     },
     "metadata": {},
     "execution_count": 28
    }
   ],
   "metadata": {}
  },
  {
   "cell_type": "code",
   "execution_count": 30,
   "source": [
    "# Save to xlsx\r\n",
    "review_df.to_csv('reviews.csv')"
   ],
   "outputs": [],
   "metadata": {}
  }
 ],
 "metadata": {
  "hide_input": false,
  "interpreter": {
   "hash": "937229e3b8cc234f45d1b83f259b22cb5a2a2997d0f15f5055a6695ba05997b0"
  },
  "kernelspec": {
   "name": "python3",
   "display_name": "Python 3.8.5 64-bit ('base': conda)"
  },
  "language_info": {
   "codemirror_mode": {
    "name": "ipython",
    "version": 3
   },
   "file_extension": ".py",
   "mimetype": "text/x-python",
   "name": "python",
   "nbconvert_exporter": "python",
   "pygments_lexer": "ipython3",
   "version": "3.8.5"
  },
  "toc": {
   "base_numbering": 1,
   "nav_menu": {},
   "number_sections": true,
   "sideBar": true,
   "skip_h1_title": false,
   "title_cell": "Table of Contents",
   "title_sidebar": "Contents",
   "toc_cell": false,
   "toc_position": {},
   "toc_section_display": true,
   "toc_window_display": false
  }
 },
 "nbformat": 4,
 "nbformat_minor": 2
}